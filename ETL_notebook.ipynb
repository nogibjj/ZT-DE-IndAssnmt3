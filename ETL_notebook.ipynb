{
 "cells": [
  {
   "cell_type": "code",
   "execution_count": 0,
   "metadata": {
    "application/vnd.databricks.v1+cell": {
     "cellMetadata": {
      "byteLimit": 2048000,
      "rowLimit": 10000
     },
     "inputWidgets": {},
     "nuid": "d9e592e9-b180-44e0-926a-15045f7e40be",
     "showTitle": false,
     "title": ""
    }
   },
   "outputs": [
    {
     "output_type": "execute_result",
     "data": {
      "text/plain": [
       "True"
      ]
     },
     "execution_count": 27,
     "metadata": {},
     "output_type": "execute_result"
    }
   ],
   "source": [
    "# Create the directory\n",
    "dbutils.fs.mkdirs(\"/FileStore/tables/\")"
   ]
  },
  {
   "cell_type": "code",
   "execution_count": 0,
   "metadata": {
    "application/vnd.databricks.v1+cell": {
     "cellMetadata": {
      "byteLimit": 2048000,
      "rowLimit": 10000
     },
     "inputWidgets": {},
     "nuid": "2a56e202-fc4f-49e1-ae85-43eeff74938f",
     "showTitle": false,
     "title": ""
    }
   },
   "outputs": [
    {
     "output_type": "stream",
     "name": "stderr",
     "output_type": "stream",
     "text": [
      "  % Total    % Received % Xferd  Average Speed   Time    Time     Time  Current\n                                 Dload  Upload   Total   Spent    Left  Speed\n\r  0     0    0     0    0     0      0      0 --:--:-- --:--:-- --:--:--     0\r100 76857  100 76857    0     0   253k      0 --:--:-- --:--:-- --:--:--  253k\r100 76857  100 76857    0     0   253k      0 --:--:-- --:--:-- --:--:--  253k\n"
     ]
    }
   ],
   "source": [
    "%sh\n",
    "curl -o /dbfs/FileStore/tables/HRDataset_v14.csv https://raw.githubusercontent.com/nogibjj/ZT-DE-week8-miniproject8/main/HRDataset_v14.csv\n"
   ]
  },
  {
   "cell_type": "code",
   "execution_count": 0,
   "metadata": {
    "application/vnd.databricks.v1+cell": {
     "cellMetadata": {
      "byteLimit": 2048000,
      "rowLimit": 10000
     },
     "inputWidgets": {},
     "nuid": "90885f24-9f3a-4ec1-afc8-d2a8e73c0225",
     "showTitle": false,
     "title": ""
    }
   },
   "outputs": [
    {
     "output_type": "display_data",
     "data": {
      "text/html": [
       "<style scoped>\n",
       "  .table-result-container {\n",
       "    max-height: 300px;\n",
       "    overflow: auto;\n",
       "  }\n",
       "  table, th, td {\n",
       "    border: 1px solid black;\n",
       "    border-collapse: collapse;\n",
       "  }\n",
       "  th, td {\n",
       "    padding: 5px;\n",
       "  }\n",
       "  th {\n",
       "    text-align: left;\n",
       "  }\n",
       "</style><div class='table-result-container'><table class='table-result'><thead style='background-color: white'><tr><th>path</th><th>name</th><th>size</th><th>modificationTime</th></tr></thead><tbody><tr><td>dbfs:/FileStore/tables/HRDataset_v14.csv</td><td>HRDataset_v14.csv</td><td>76857</td><td>1702321159000</td></tr></tbody></table></div>"
      ]
     },
     "metadata": {
      "application/vnd.databricks.v1+output": {
       "addedWidgets": {},
       "aggData": [],
       "aggError": "",
       "aggOverflow": false,
       "aggSchema": [],
       "aggSeriesLimitReached": false,
       "aggType": "",
       "arguments": {},
       "columnCustomDisplayInfos": {},
       "data": [
        [
         "dbfs:/FileStore/tables/HRDataset_v14.csv",
         "HRDataset_v14.csv",
         76857,
         1702321159000
        ]
       ],
       "datasetInfos": [],
       "dbfsResultPath": null,
       "isJsonSchema": true,
       "metadata": {},
       "overflow": false,
       "plotOptions": {
        "customPlotOptions": {},
        "displayType": "table",
        "pivotAggregation": null,
        "pivotColumns": null,
        "xColumns": null,
        "yColumns": null
       },
       "removedWidgets": [],
       "schema": [
        {
         "metadata": "{}",
         "name": "path",
         "type": "\"string\""
        },
        {
         "metadata": "{}",
         "name": "name",
         "type": "\"string\""
        },
        {
         "metadata": "{}",
         "name": "size",
         "type": "\"long\""
        },
        {
         "metadata": "{}",
         "name": "modificationTime",
         "type": "\"long\""
        }
       ],
       "type": "table"
      }
     },
     "output_type": "display_data"
    }
   ],
   "source": [
    "# Verify the file\n",
    "display(dbutils.fs.ls(\"/FileStore/tables\"))"
   ]
  },
  {
   "cell_type": "code",
   "execution_count": 0,
   "metadata": {
    "application/vnd.databricks.v1+cell": {
     "cellMetadata": {
      "byteLimit": 2048000,
      "rowLimit": 10000
     },
     "inputWidgets": {},
     "nuid": "cecdbe3d-484b-40a6-89b1-b452a0679cce",
     "showTitle": false,
     "title": ""
    }
   },
   "outputs": [],
   "source": [
    "df = spark.read.csv(\"dbfs:/FileStore/tables/HRDataset_v14.csv\", header=True, inferSchema=True)"
   ]
  },
  {
   "cell_type": "code",
   "execution_count": 0,
   "metadata": {
    "application/vnd.databricks.v1+cell": {
     "cellMetadata": {
      "byteLimit": 2048000,
      "rowLimit": 10000
     },
     "inputWidgets": {},
     "nuid": "cac2a0ca-f1b8-4edd-a24b-5d49b306c7a8",
     "showTitle": false,
     "title": ""
    }
   },
   "outputs": [],
   "source": [
    "### Error handling part ####\n",
    "try:\n",
    "    # Check for missing values in 'Employee_Name' column\n",
    "    if df.filter(df[\"Employee_Name\"].isNull()).count() > 0:\n",
    "        raise ValueError(\"Data contains null values in 'Employee_Name'\")\n",
    "    \n",
    "    # Additional data processing steps...\n",
    "    \n",
    "except ValueError as ve:\n",
    "    print(\"Data Validation Error:\", ve)\n",
    "except Exception as e:\n",
    "    print(\"An error occurred:\", e)\n"
   ]
  },
  {
   "cell_type": "code",
   "execution_count": 0,
   "metadata": {
    "application/vnd.databricks.v1+cell": {
     "cellMetadata": {
      "byteLimit": 2048000,
      "rowLimit": 10000
     },
     "inputWidgets": {},
     "nuid": "53d0f250-06f5-4a01-8d2d-02407cf8bba5",
     "showTitle": false,
     "title": ""
    }
   },
   "outputs": [],
   "source": [
    "###### ABOVE IS DATA INGESTION JOB IS COMPLETED ######"
   ]
  },
  {
   "cell_type": "code",
   "execution_count": 0,
   "metadata": {
    "application/vnd.databricks.v1+cell": {
     "cellMetadata": {
      "byteLimit": 2048000,
      "rowLimit": 10000
     },
     "inputWidgets": {},
     "nuid": "90041981-c035-4232-9464-9b54458df13a",
     "showTitle": false,
     "title": ""
    }
   },
   "outputs": [],
   "source": [
    "##### HERE IS THE DATA TRANSFORMATON WITH SPARK SQL ######\n",
    "\n",
    "# 1. Register 'df' as a temporary view\n",
    "df.createOrReplaceTempView(\"hr_data\")"
   ]
  },
  {
   "cell_type": "code",
   "execution_count": 0,
   "metadata": {
    "application/vnd.databricks.v1+cell": {
     "cellMetadata": {
      "byteLimit": 2048000,
      "rowLimit": 10000
     },
     "inputWidgets": {},
     "nuid": "1a03e6fd-2562-4bda-9de9-58e0b2002716",
     "showTitle": false,
     "title": ""
    }
   },
   "outputs": [
    {
     "output_type": "stream",
     "name": "stdout",
     "output_type": "stream",
     "text": [
      "+--------------------+------------------+\n|          Department|     AverageSalary|\n+--------------------+------------------+\n|               Sales| 69061.25806451614|\n|   Production       |59953.545454545456|\n|       Admin Offices| 71791.88888888889|\n|    Executive Office|          250000.0|\n|Software Engineering| 94989.45454545454|\n|               IT/IS|          97064.64|\n+--------------------+------------------+\n\n"
     ]
    }
   ],
   "source": [
    "# 2. Perform SQL queries for transformation\n",
    "\n",
    "# Query for the Average Salary by Department\n",
    "avg_salary_dept = spark.sql(\"\"\"\n",
    "    SELECT Department, AVG(Salary) as AverageSalary\n",
    "    FROM hr_data\n",
    "    GROUP BY Department\n",
    "\"\"\")\n",
    "avg_salary_dept.show()"
   ]
  },
  {
   "cell_type": "code",
   "execution_count": 0,
   "metadata": {
    "application/vnd.databricks.v1+cell": {
     "cellMetadata": {
      "byteLimit": 2048000,
      "rowLimit": 10000
     },
     "inputWidgets": {},
     "nuid": "b3ce05d1-8ad1-48f1-b991-74ae5a67744d",
     "showTitle": false,
     "title": ""
    }
   },
   "outputs": [
    {
     "output_type": "stream",
     "name": "stdout",
     "output_type": "stream",
     "text": [
      "+-----------+-------------+\n|MaritalDesc|EmployeeCount|\n+-----------+-------------+\n|  Separated|           12|\n|    Married|          124|\n|   Divorced|           30|\n|    Widowed|            8|\n|     Single|          137|\n+-----------+-------------+\n\n"
     ]
    }
   ],
   "source": [
    "# Query for Counting the number of employees based on their marital status\n",
    "count_by_marital_status = spark.sql(\"\"\"\n",
    "    SELECT MaritalDesc, COUNT(*) as EmployeeCount\n",
    "    FROM hr_data\n",
    "    GROUP BY MaritalDesc\n",
    "\"\"\")\n",
    "count_by_marital_status.show()"
   ]
  },
  {
   "cell_type": "code",
   "execution_count": 0,
   "metadata": {
    "application/vnd.databricks.v1+cell": {
     "cellMetadata": {
      "byteLimit": 2048000,
      "rowLimit": 10000
     },
     "inputWidgets": {},
     "nuid": "32fd1efc-dd5d-4c3b-8778-ed461b9fe343",
     "showTitle": false,
     "title": ""
    }
   },
   "outputs": [],
   "source": [
    "# Select employees with High Salaries\n",
    "transformed_salary_df = spark.sql(\"\"\"\n",
    "    SELECT Employee_Name, Position, Salary\n",
    "    FROM hr_data\n",
    "    WHERE Salary > 70000\n",
    "\"\"\")\n",
    "\n",
    "# Select employees by department and performance score\n",
    "transformed_df = spark.sql(\"\"\"\n",
    "    SELECT Employee_Name, Department, PerformanceScore\n",
    "    FROM hr_data\n",
    "    WHERE PerformanceScore = 'Exceeds'\n",
    "\"\"\")"
   ]
  },
  {
   "cell_type": "code",
   "execution_count": 0,
   "metadata": {
    "application/vnd.databricks.v1+cell": {
     "cellMetadata": {
      "byteLimit": 2048000,
      "rowLimit": 10000
     },
     "inputWidgets": {},
     "nuid": "db6d1067-3a72-4eeb-a01d-a3251f0add6e",
     "showTitle": false,
     "title": ""
    }
   },
   "outputs": [],
   "source": [
    "##### HERE IS THE DATA STORAGE IN LAKE #####\n",
    "\n",
    "# Save the transformed data to Delta Lake for efficient storage and additional functionalitites like versioning\n",
    "transformed_df.write.format(\"delta\").mode(\"overwrite\").save(\"/delta/HRDatasetTransformed\")\n",
    "\n",
    "transformed_salary_df.write.format(\"delta\").mode(\"overwrite\").save(\"/delta/HRDatasetSalaryTransformed\")\n"
   ]
  },
  {
   "cell_type": "code",
   "execution_count": 0,
   "metadata": {
    "application/vnd.databricks.v1+cell": {
     "cellMetadata": {
      "byteLimit": 2048000,
      "rowLimit": 10000
     },
     "inputWidgets": {},
     "nuid": "73722e2d-ce39-431c-ac29-e6dd5af492e4",
     "showTitle": false,
     "title": ""
    }
   },
   "outputs": [],
   "source": [
    "##### HERE IS THE DATA VISUALIZATION #####\n",
    "\n",
    "pd_df = transformed_df.toPandas()\n",
    "pd_salary_df = transformed_salary_df.toPandas()\n",
    "# Visualization code using Matplotlib/Seaborn"
   ]
  },
  {
   "cell_type": "code",
   "execution_count": 0,
   "metadata": {
    "application/vnd.databricks.v1+cell": {
     "cellMetadata": {
      "byteLimit": 2048000,
      "rowLimit": 10000
     },
     "inputWidgets": {},
     "nuid": "fe32a0dd-8724-4fb3-8246-ce31743eaa0f",
     "showTitle": false,
     "title": ""
    }
   },
   "outputs": [
    {
     "output_type": "display_data",
     "data": {
      "image/png": "[encoded data removed]",
      "text/plain": [
       "<Figure size 1000x600 with 1 Axes>"
      ]
     },
     "metadata": {},
     "output_type": "display_data"
    }
   ],
   "source": [
    "# plotting a histogram of salaries\n",
    "\n",
    "import matplotlib.pyplot as plt\n",
    "\n",
    "plt.figure(figsize=(10, 6))\n",
    "pd_salary_df['Salary'].hist(bins=20)\n",
    "plt.title('Histogram of Salaries')\n",
    "plt.xlabel('Salary')\n",
    "plt.ylabel('Frequency')\n",
    "plt.show()\n"
   ]
  },
  {
   "cell_type": "code",
   "execution_count": 0,
   "metadata": {
    "application/vnd.databricks.v1+cell": {
     "cellMetadata": {
      "byteLimit": 2048000,
      "rowLimit": 10000
     },
     "inputWidgets": {},
     "nuid": "e73308fe-6412-4fd7-9805-1ee3bbcd5633",
     "showTitle": false,
     "title": ""
    }
   },
   "outputs": [
    {
     "output_type": "display_data",
     "data": {
      "image/png": "[encoded data removed]",
      "text/plain": [
       "<Figure size 640x480 with 1 Axes>"
      ]
     },
     "metadata": {},
     "output_type": "display_data"
    }
   ],
   "source": [
    "# Bar Chart of Employee count by Department\n",
    "\n",
    "department_counts = pd_df['Department'].value_counts()\n",
    "department_counts.plot(kind='bar')\n",
    "plt.title('Employee Count by Department')\n",
    "plt.xlabel('Department')\n",
    "plt.ylabel('Employee Count')\n",
    "plt.show()"
   ]
  },
  {
   "cell_type": "markdown",
   "metadata": {
    "application/vnd.databricks.v1+cell": {
     "cellMetadata": {},
     "inputWidgets": {},
     "nuid": "186249c5-7133-4315-867c-a1264147dbfa",
     "showTitle": false,
     "title": ""
    }
   },
   "source": [
    "### Conclusion and Recommendation\n",
    "The visualizations indicate a significant concentration of employees within the Production department, suggesting it is a central operational area of the company. This could imply a focus on manufacturing or hands-on work, requiring a larger workforce. On the other hand, the Histogram of Salaries reveals a wide range of compensation, with a substantial number of employees clustered at the lower end of the salary spectrum and fewer individuals earning higher wages. This may point to a traditional hierarchical structure with many entry-level or mid-level positions and fewer higher-paying roles. Management might consider reviewing salary distributions to ensure fair and competitive compensation, particularly to retain key talent in higher-skilled positions."
   ]
  }
 ],
 "metadata": {
  "application/vnd.databricks.v1+notebook": {
   "dashboards": [],
   "language": "python",
   "notebookMetadata": {
    "mostRecentlyExecutedCommandWithImplicitDF": {
     "commandId": 1200483590958085,
     "dataframes": [
      "_sqldf"
     ]
    },
    "pythonIndentUnit": 4
   },
   "notebookName": "Untitled Notebook 2023-12-11 10:24:55",
   "widgets": {}
  }
 },
 "nbformat": 4,
 "nbformat_minor": 0
}
